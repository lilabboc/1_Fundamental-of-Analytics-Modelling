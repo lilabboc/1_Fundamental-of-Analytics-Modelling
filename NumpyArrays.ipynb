{
  "nbformat": 4,
  "nbformat_minor": 0,
  "metadata": {
    "colab": {
      "name": "NumpyArrays.ipynb",
      "provenance": []
    },
    "kernelspec": {
      "name": "python3",
      "display_name": "Python 3"
    },
    "language_info": {
      "name": "python"
    }
  },
  "cells": [
    {
      "cell_type": "code",
      "execution_count": null,
      "metadata": {
        "id": "iS3XDkWHpm4v"
      },
      "outputs": [],
      "source": [
        "import numpy as np"
      ]
    },
    {
      "cell_type": "code",
      "source": [
        "distance_array = np.array([100, 200, 400, 800, 1500, 3000, 5000, 10000])\n",
        "print(distance_array)"
      ],
      "metadata": {
        "colab": {
          "base_uri": "https://localhost:8080/"
        },
        "id": "HF2Z9dF_puBv",
        "outputId": "ec22a477-42f4-4b88-f0a1-0383e3784845"
      },
      "execution_count": null,
      "outputs": [
        {
          "output_type": "stream",
          "name": "stdout",
          "text": [
            "[  100   200   400   800  1500  3000  5000 10000]\n"
          ]
        }
      ]
    },
    {
      "cell_type": "code",
      "source": [
        "minimum = min(distance_array)\n",
        "maximum = max(distance_array)\n",
        "print(minimum, maximum)\n",
        "print(minimum)\n",
        "print(maximum)"
      ],
      "metadata": {
        "colab": {
          "base_uri": "https://localhost:8080/"
        },
        "id": "TM4jJNaIpw_F",
        "outputId": "5da48cce-7418-4b91-d704-9dc9e0ba92c5"
      },
      "execution_count": null,
      "outputs": [
        {
          "output_type": "stream",
          "name": "stdout",
          "text": [
            "100 10000\n",
            "100\n",
            "10000\n"
          ]
        }
      ]
    },
    {
      "cell_type": "code",
      "source": [
        "average_distance = np.mean(distance_array)\n",
        "print(average_distance)"
      ],
      "metadata": {
        "colab": {
          "base_uri": "https://localhost:8080/"
        },
        "id": "lcQFn6HUp1ii",
        "outputId": "abbadf8f-0fea-47bf-eba1-789d8c8f7317"
      },
      "execution_count": null,
      "outputs": [
        {
          "output_type": "stream",
          "name": "stdout",
          "text": [
            "2625.0\n"
          ]
        }
      ]
    },
    {
      "cell_type": "code",
      "source": [
        "total_distance = np.sum(distance_array)\n",
        "print(total_distance)"
      ],
      "metadata": {
        "colab": {
          "base_uri": "https://localhost:8080/"
        },
        "id": "zZcrQTAjp4oS",
        "outputId": "2ac54e15-f371-4123-b250-e3ccd8a3c08f"
      },
      "execution_count": null,
      "outputs": [
        {
          "output_type": "stream",
          "name": "stdout",
          "text": [
            "21000\n"
          ]
        }
      ]
    },
    {
      "cell_type": "code",
      "source": [
        "cumulative_sum = np.cumsum(distance_array)\n",
        "print(cumulative_sum)"
      ],
      "metadata": {
        "colab": {
          "base_uri": "https://localhost:8080/"
        },
        "id": "4hwO1sHbp9V-",
        "outputId": "4d5b4b9b-c809-4df9-c8ce-5a8faa314703"
      },
      "execution_count": null,
      "outputs": [
        {
          "output_type": "stream",
          "name": "stdout",
          "text": [
            "[  100   300   700  1500  3000  6000 11000 21000]\n"
          ]
        }
      ]
    },
    {
      "cell_type": "code",
      "source": [
        "round_all = np.round_(distance_array)\n",
        "print(round_all)"
      ],
      "metadata": {
        "colab": {
          "base_uri": "https://localhost:8080/"
        },
        "id": "yFqyl5UMqCup",
        "outputId": "ab073470-a797-4173-8d7e-55f1dcf125e6"
      },
      "execution_count": null,
      "outputs": [
        {
          "output_type": "stream",
          "name": "stdout",
          "text": [
            "[  100   200   400   800  1500  3000  5000 10000]\n"
          ]
        }
      ]
    }
  ]
}