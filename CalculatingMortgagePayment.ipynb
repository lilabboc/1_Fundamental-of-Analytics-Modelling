{
  "nbformat": 4,
  "nbformat_minor": 0,
  "metadata": {
    "colab": {
      "name": "CalculatingMortgagePayment.ipynb",
      "provenance": [],
      "collapsed_sections": []
    },
    "kernelspec": {
      "name": "python3",
      "display_name": "Python 3"
    },
    "language_info": {
      "name": "python"
    }
  },
  "cells": [
    {
      "cell_type": "code",
      "execution_count": null,
      "metadata": {
        "id": "jtOUvcQ0o_VS"
      },
      "outputs": [],
      "source": [
        "def EMI(P,r,n):\n",
        "  monthly_installment = P * (r*(1+r)**n)/((1+r)**n-1)\n",
        "  return monthly_installment\n"
      ]
    },
    {
      "cell_type": "code",
      "source": [
        "#solution 1\n",
        "EMI(400000,0.03/12,30*12)"
      ],
      "metadata": {
        "colab": {
          "base_uri": "https://localhost:8080/"
        },
        "id": "vdaYR4sJpRYX",
        "outputId": "58a5ca69-f358-43be-93d1-5b9f390fafcd"
      },
      "execution_count": null,
      "outputs": [
        {
          "output_type": "execute_result",
          "data": {
            "text/plain": [
              "1686.4161349178237"
            ]
          },
          "metadata": {},
          "execution_count": 2
        }
      ]
    },
    {
      "cell_type": "code",
      "source": [
        "#solution 2\n",
        "EMI(400000,0.06/12,30*12)"
      ],
      "metadata": {
        "colab": {
          "base_uri": "https://localhost:8080/"
        },
        "id": "5HWhsrh3pUQ-",
        "outputId": "2a07dd49-932f-4b53-8d44-adaf7cdff121"
      },
      "execution_count": null,
      "outputs": [
        {
          "output_type": "execute_result",
          "data": {
            "text/plain": [
              "2398.2021006110276"
            ]
          },
          "metadata": {},
          "execution_count": 3
        }
      ]
    }
  ]
}